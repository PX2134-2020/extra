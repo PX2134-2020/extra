{
  "nbformat": 4,
  "nbformat_minor": 0,
  "metadata": {
    "kernelspec": {
      "display_name": "Python 3",
      "language": "python",
      "name": "python3"
    },
    "language_info": {
      "codemirror_mode": {
        "name": "ipython",
        "version": 3
      },
      "file_extension": ".py",
      "mimetype": "text/x-python",
      "name": "python",
      "nbconvert_exporter": "python",
      "pygments_lexer": "ipython3",
      "version": "3.6.5"
    },
    "colab": {
      "name": "turtle_tree.ipynb",
      "provenance": []
    }
  },
  "cells": [
    {
      "cell_type": "markdown",
      "metadata": {
        "id": "TbOqUGFfRJnl"
      },
      "source": [
        "For this, let's have fun with turtles !"
      ]
    },
    {
      "cell_type": "code",
      "metadata": {
        "id": "RW264YwNNecs"
      },
      "source": [
        "!pip3 install -q ColabTurtle"
      ],
      "execution_count": 3,
      "outputs": []
    },
    {
      "cell_type": "code",
      "metadata": {
        "id": "Iym3c6TtNaWx"
      },
      "source": [
        "import numpy as np\n",
        "from ColabTurtle.Turtle import *"
      ],
      "execution_count": 4,
      "outputs": []
    },
    {
      "cell_type": "code",
      "metadata": {
        "id": "r9rSV1DMNB7N"
      },
      "source": [
        "# Generating one yellow star\n",
        "def star(size):\n",
        "    color('yellow')\n",
        "    #begin_fill()\n",
        "    left(126)\n",
        "    \n",
        "    # loop for each fo the five points of the star\n",
        "    for i in range(5):\n",
        "        forward(int(size/5))\n",
        "        right(144)\n",
        "        forward(int(size/5))\n",
        "        left(72)\n",
        "    #end_fill()\n",
        "    right(126)\n",
        "    # back to the tree color\n",
        "    color('green')\n",
        "    return"
      ],
      "execution_count": 5,
      "outputs": []
    },
    {
      "cell_type": "code",
      "metadata": {
        "id": "p3Rl_aV9NB7Q"
      },
      "source": [
        "# Generating the tree\n",
        "def tree(d, s):\n",
        "    global max_sides\n",
        "    # only quit the function once order is 0\n",
        "    s=int(s)\n",
        "\n",
        "    if d <= 0: return\n",
        "    forward(s)\n",
        "    \n",
        "    # recursion:\n",
        "    tree(d-1,s*0.8)\n",
        "    right(120)\n",
        "    tree(d-3,s*0.5)\n",
        "    right(120)\n",
        "    tree(d-3,s*0.5)\n",
        "    right(120)\n",
        "    backward(s)\n"
      ],
      "execution_count": 10,
      "outputs": []
    },
    {
      "cell_type": "code",
      "metadata": {
        "scrolled": false,
        "id": "uvnc0PHyNB7Q",
        "outputId": "36f2b512-acd1-45ff-bd95-9d659354b4a3",
        "colab": {
          "base_uri": "https://localhost:8080/",
          "height": 522
        }
      },
      "source": [
        "initializeTurtle()\n",
        "\n",
        "# The scale of the tree\n",
        "size = 100\n",
        "# The depth of the tree\n",
        "depth = 8\n",
        "# Counter to mark how far left or right we have been\n",
        "max_sides=10.0\n",
        "\n",
        "# have the turtle move fast !\n",
        "speed(10)\n",
        "\n",
        "# initial position:\n",
        "left(90)\n",
        "forward(3*size)\n",
        "# drawing the star at the top\n",
        "star(size)\n",
        "\n",
        "backward(int(size*4.8))\n",
        "\n",
        "# drawing the tree\n",
        "tree(depth,size)\n",
        "\n",
        "backward(int(size/2))"
      ],
      "execution_count": 11,
      "outputs": [
        {
          "output_type": "display_data",
          "data": {
            "text/html": [
              "\n",
              "      <svg width=\"800\" height=\"500\">\n",
              "        <rect width=\"100%\" height=\"100%\" fill=\"black\"/>\n",
              "        <line x1=\"400\" y1=\"250\" x2=\"100.0\" y2=\"250.00000000000003\" stroke-linecap=\"round\" style=\"stroke:white;stroke-width:4\"/><line x1=\"100.0\" y1=\"250.00000000000003\" x2=\"111.75570504584947\" y2=\"266.180339887499\" stroke-linecap=\"round\" style=\"stroke:yellow;stroke-width:4\"/><line x1=\"111.75570504584947\" y1=\"266.180339887499\" x2=\"92.7345747199464\" y2=\"260.0\" stroke-linecap=\"round\" style=\"stroke:yellow;stroke-width:4\"/><line x1=\"92.7345747199464\" y1=\"260.0\" x2=\"80.97886967409693\" y2=\"276.180339887499\" stroke-linecap=\"round\" style=\"stroke:yellow;stroke-width:4\"/><line x1=\"80.97886967409693\" y1=\"276.180339887499\" x2=\"80.97886967409693\" y2=\"256.180339887499\" stroke-linecap=\"round\" style=\"stroke:yellow;stroke-width:4\"/><line x1=\"80.97886967409693\" y1=\"256.180339887499\" x2=\"61.957739348193854\" y2=\"250.00000000000003\" stroke-linecap=\"round\" style=\"stroke:yellow;stroke-width:4\"/><line x1=\"61.957739348193854\" y1=\"250.00000000000003\" x2=\"80.97886967409693\" y2=\"243.81966011250108\" stroke-linecap=\"round\" style=\"stroke:yellow;stroke-width:4\"/><line x1=\"80.97886967409693\" y1=\"243.81966011250108\" x2=\"80.97886967409693\" y2=\"223.81966011250108\" stroke-linecap=\"round\" style=\"stroke:yellow;stroke-width:4\"/><line x1=\"80.97886967409693\" y1=\"223.81966011250108\" x2=\"92.7345747199464\" y2=\"240.00000000000003\" stroke-linecap=\"round\" style=\"stroke:yellow;stroke-width:4\"/><line x1=\"92.7345747199464\" y1=\"240.00000000000003\" x2=\"111.75570504584947\" y2=\"233.81966011250108\" stroke-linecap=\"round\" style=\"stroke:yellow;stroke-width:4\"/><line x1=\"111.75570504584947\" y1=\"233.81966011250108\" x2=\"100.0\" y2=\"250.00000000000003\" stroke-linecap=\"round\" style=\"stroke:yellow;stroke-width:4\"/><line x1=\"100.0\" y1=\"250.00000000000003\" x2=\"580.0\" y2=\"249.99999999999997\" stroke-linecap=\"round\" style=\"stroke:green;stroke-width:4\"/><line x1=\"580.0\" y1=\"249.99999999999997\" x2=\"480.0\" y2=\"249.99999999999997\" stroke-linecap=\"round\" style=\"stroke:green;stroke-width:4\"/><line x1=\"480.0\" y1=\"249.99999999999997\" x2=\"400.0\" y2=\"249.99999999999997\" stroke-linecap=\"round\" style=\"stroke:green;stroke-width:4\"/><line x1=\"400.0\" y1=\"249.99999999999997\" x2=\"336.0\" y2=\"249.99999999999997\" stroke-linecap=\"round\" style=\"stroke:green;stroke-width:4\"/><line x1=\"336.0\" y1=\"249.99999999999997\" x2=\"285.0\" y2=\"249.99999999999997\" stroke-linecap=\"round\" style=\"stroke:green;stroke-width:4\"/><line x1=\"285.0\" y1=\"249.99999999999997\" x2=\"245.0\" y2=\"249.99999999999997\" stroke-linecap=\"round\" style=\"stroke:green;stroke-width:4\"/><line x1=\"245.0\" y1=\"249.99999999999997\" x2=\"213.0\" y2=\"249.99999999999997\" stroke-linecap=\"round\" style=\"stroke:green;stroke-width:4\"/><line x1=\"213.0\" y1=\"249.99999999999997\" x2=\"188.0\" y2=\"249.99999999999997\" stroke-linecap=\"round\" style=\"stroke:green;stroke-width:4\"/><line x1=\"188.0\" y1=\"249.99999999999997\" x2=\"168.0\" y2=\"249.99999999999997\" stroke-linecap=\"round\" style=\"stroke:green;stroke-width:4\"/><line x1=\"168.0\" y1=\"249.99999999999997\" x2=\"188.0\" y2=\"249.99999999999997\" stroke-linecap=\"round\" style=\"stroke:green;stroke-width:4\"/><line x1=\"188.0\" y1=\"249.99999999999997\" x2=\"213.0\" y2=\"249.99999999999997\" stroke-linecap=\"round\" style=\"stroke:green;stroke-width:4\"/><line x1=\"213.0\" y1=\"249.99999999999997\" x2=\"245.0\" y2=\"249.99999999999997\" stroke-linecap=\"round\" style=\"stroke:green;stroke-width:4\"/><line x1=\"245.0\" y1=\"249.99999999999997\" x2=\"255.0\" y2=\"232.6794919243112\" stroke-linecap=\"round\" style=\"stroke:green;stroke-width:4\"/><line x1=\"255.0\" y1=\"232.6794919243112\" x2=\"245.0\" y2=\"249.99999999999997\" stroke-linecap=\"round\" style=\"stroke:green;stroke-width:4\"/><line x1=\"245.0\" y1=\"249.99999999999997\" x2=\"255.0\" y2=\"267.32050807568874\" stroke-linecap=\"round\" style=\"stroke:green;stroke-width:4\"/><line x1=\"255.0\" y1=\"267.32050807568874\" x2=\"245.0\" y2=\"249.99999999999997\" stroke-linecap=\"round\" style=\"stroke:green;stroke-width:4\"/><line x1=\"245.0\" y1=\"249.99999999999997\" x2=\"285.0\" y2=\"249.99999999999997\" stroke-linecap=\"round\" style=\"stroke:green;stroke-width:4\"/><line x1=\"285.0\" y1=\"249.99999999999997\" x2=\"297.5\" y2=\"228.349364905389\" stroke-linecap=\"round\" style=\"stroke:green;stroke-width:4\"/><line x1=\"297.5\" y1=\"228.349364905389\" x2=\"307.5\" y2=\"211.02885682970023\" stroke-linecap=\"round\" style=\"stroke:green;stroke-width:4\"/><line x1=\"307.5\" y1=\"211.02885682970023\" x2=\"297.5\" y2=\"228.349364905389\" stroke-linecap=\"round\" style=\"stroke:green;stroke-width:4\"/><line x1=\"297.5\" y1=\"228.349364905389\" x2=\"285.0\" y2=\"249.99999999999997\" stroke-linecap=\"round\" style=\"stroke:green;stroke-width:4\"/><line x1=\"285.0\" y1=\"249.99999999999997\" x2=\"297.5\" y2=\"271.65063509461095\" stroke-linecap=\"round\" style=\"stroke:green;stroke-width:4\"/><line x1=\"297.5\" y1=\"271.65063509461095\" x2=\"307.5\" y2=\"288.97114317029974\" stroke-linecap=\"round\" style=\"stroke:green;stroke-width:4\"/><line x1=\"307.5\" y1=\"288.97114317029974\" x2=\"297.5\" y2=\"271.65063509461095\" stroke-linecap=\"round\" style=\"stroke:green;stroke-width:4\"/><line x1=\"297.5\" y1=\"271.65063509461095\" x2=\"285.0\" y2=\"249.99999999999997\" stroke-linecap=\"round\" style=\"stroke:green;stroke-width:4\"/><line x1=\"285.0\" y1=\"249.99999999999997\" x2=\"336.0\" y2=\"249.99999999999997\" stroke-linecap=\"round\" style=\"stroke:green;stroke-width:4\"/><line x1=\"336.0\" y1=\"249.99999999999997\" x2=\"352.0\" y2=\"222.28718707889794\" stroke-linecap=\"round\" style=\"stroke:green;stroke-width:4\"/><line x1=\"352.0\" y1=\"222.28718707889794\" x2=\"364.5\" y2=\"200.63655198428697\" stroke-linecap=\"round\" style=\"stroke:green;stroke-width:4\"/><line x1=\"364.5\" y1=\"200.63655198428697\" x2=\"374.5\" y2=\"183.3160439085982\" stroke-linecap=\"round\" style=\"stroke:green;stroke-width:4\"/><line x1=\"374.5\" y1=\"183.3160439085982\" x2=\"364.5\" y2=\"200.63655198428697\" stroke-linecap=\"round\" style=\"stroke:green;stroke-width:4\"/><line x1=\"364.5\" y1=\"200.63655198428697\" x2=\"352.0\" y2=\"222.28718707889794\" stroke-linecap=\"round\" style=\"stroke:green;stroke-width:4\"/><line x1=\"352.0\" y1=\"222.28718707889794\" x2=\"336.0\" y2=\"249.99999999999997\" stroke-linecap=\"round\" style=\"stroke:green;stroke-width:4\"/><line x1=\"336.0\" y1=\"249.99999999999997\" x2=\"352.0\" y2=\"277.712812921102\" stroke-linecap=\"round\" style=\"stroke:green;stroke-width:4\"/><line x1=\"352.0\" y1=\"277.712812921102\" x2=\"364.5\" y2=\"299.36344801571295\" stroke-linecap=\"round\" style=\"stroke:green;stroke-width:4\"/><line x1=\"364.5\" y1=\"299.36344801571295\" x2=\"374.5\" y2=\"316.68395609140174\" stroke-linecap=\"round\" style=\"stroke:green;stroke-width:4\"/><line x1=\"374.5\" y1=\"316.68395609140174\" x2=\"364.5\" y2=\"299.36344801571295\" stroke-linecap=\"round\" style=\"stroke:green;stroke-width:4\"/><line x1=\"364.5\" y1=\"299.36344801571295\" x2=\"352.0\" y2=\"277.712812921102\" stroke-linecap=\"round\" style=\"stroke:green;stroke-width:4\"/><line x1=\"352.0\" y1=\"277.712812921102\" x2=\"336.0\" y2=\"249.99999999999997\" stroke-linecap=\"round\" style=\"stroke:green;stroke-width:4\"/><line x1=\"336.0\" y1=\"249.99999999999997\" x2=\"400.0\" y2=\"249.99999999999997\" stroke-linecap=\"round\" style=\"stroke:green;stroke-width:4\"/><line x1=\"400.0\" y1=\"249.99999999999997\" x2=\"420.0\" y2=\"215.35898384862242\" stroke-linecap=\"round\" style=\"stroke:green;stroke-width:4\"/><line x1=\"420.0\" y1=\"215.35898384862242\" x2=\"436.0\" y2=\"187.6461709275204\" stroke-linecap=\"round\" style=\"stroke:green;stroke-width:4\"/><line x1=\"436.0\" y1=\"187.6461709275204\" x2=\"448.5\" y2=\"165.9955358329094\" stroke-linecap=\"round\" style=\"stroke:green;stroke-width:4\"/><line x1=\"448.5\" y1=\"165.9955358329094\" x2=\"458.5\" y2=\"148.67502775722065\" stroke-linecap=\"round\" style=\"stroke:green;stroke-width:4\"/><line x1=\"458.5\" y1=\"148.67502775722065\" x2=\"448.5\" y2=\"165.9955358329094\" stroke-linecap=\"round\" style=\"stroke:green;stroke-width:4\"/><line x1=\"448.5\" y1=\"165.9955358329094\" x2=\"436.0\" y2=\"187.6461709275204\" stroke-linecap=\"round\" style=\"stroke:green;stroke-width:4\"/><line x1=\"436.0\" y1=\"187.6461709275204\" x2=\"420.0\" y2=\"215.35898384862242\" stroke-linecap=\"round\" style=\"stroke:green;stroke-width:4\"/><line x1=\"420.0\" y1=\"215.35898384862242\" x2=\"430.0\" y2=\"232.67949192431118\" stroke-linecap=\"round\" style=\"stroke:green;stroke-width:4\"/><line x1=\"430.0\" y1=\"232.67949192431118\" x2=\"420.0\" y2=\"215.35898384862242\" stroke-linecap=\"round\" style=\"stroke:green;stroke-width:4\"/><line x1=\"420.0\" y1=\"215.35898384862242\" x2=\"400.0\" y2=\"215.35898384862242\" stroke-linecap=\"round\" style=\"stroke:green;stroke-width:4\"/><line x1=\"400.0\" y1=\"215.35898384862242\" x2=\"420.0\" y2=\"215.35898384862242\" stroke-linecap=\"round\" style=\"stroke:green;stroke-width:4\"/><line x1=\"420.0\" y1=\"215.35898384862242\" x2=\"400.0\" y2=\"249.99999999999994\" stroke-linecap=\"round\" style=\"stroke:green;stroke-width:4\"/><line x1=\"400.0\" y1=\"249.99999999999994\" x2=\"420.0\" y2=\"284.64101615137747\" stroke-linecap=\"round\" style=\"stroke:green;stroke-width:4\"/><line x1=\"420.0\" y1=\"284.64101615137747\" x2=\"436.0\" y2=\"312.3538290724795\" stroke-linecap=\"round\" style=\"stroke:green;stroke-width:4\"/><line x1=\"436.0\" y1=\"312.3538290724795\" x2=\"448.5\" y2=\"334.0044641670905\" stroke-linecap=\"round\" style=\"stroke:green;stroke-width:4\"/><line x1=\"448.5\" y1=\"334.0044641670905\" x2=\"458.5\" y2=\"351.32497224277927\" stroke-linecap=\"round\" style=\"stroke:green;stroke-width:4\"/><line x1=\"458.5\" y1=\"351.32497224277927\" x2=\"448.5\" y2=\"334.0044641670905\" stroke-linecap=\"round\" style=\"stroke:green;stroke-width:4\"/><line x1=\"448.5\" y1=\"334.0044641670905\" x2=\"436.0\" y2=\"312.3538290724795\" stroke-linecap=\"round\" style=\"stroke:green;stroke-width:4\"/><line x1=\"436.0\" y1=\"312.3538290724795\" x2=\"420.0\" y2=\"284.64101615137747\" stroke-linecap=\"round\" style=\"stroke:green;stroke-width:4\"/><line x1=\"420.0\" y1=\"284.64101615137747\" x2=\"400.0\" y2=\"284.64101615137747\" stroke-linecap=\"round\" style=\"stroke:green;stroke-width:4\"/><line x1=\"400.0\" y1=\"284.64101615137747\" x2=\"420.0\" y2=\"284.64101615137747\" stroke-linecap=\"round\" style=\"stroke:green;stroke-width:4\"/><line x1=\"420.0\" y1=\"284.64101615137747\" x2=\"430.0\" y2=\"267.3205080756887\" stroke-linecap=\"round\" style=\"stroke:green;stroke-width:4\"/><line x1=\"430.0\" y1=\"267.3205080756887\" x2=\"420.0\" y2=\"284.64101615137747\" stroke-linecap=\"round\" style=\"stroke:green;stroke-width:4\"/><line x1=\"420.0\" y1=\"284.64101615137747\" x2=\"400.0\" y2=\"249.99999999999994\" stroke-linecap=\"round\" style=\"stroke:green;stroke-width:4\"/><line x1=\"400.0\" y1=\"249.99999999999994\" x2=\"480.0\" y2=\"249.99999999999994\" stroke-linecap=\"round\" style=\"stroke:green;stroke-width:4\"/><line x1=\"480.0\" y1=\"249.99999999999994\" x2=\"505.0\" y2=\"206.69872981077802\" stroke-linecap=\"round\" style=\"stroke:green;stroke-width:4\"/><line x1=\"505.0\" y1=\"206.69872981077802\" x2=\"525.0\" y2=\"172.05771365940046\" stroke-linecap=\"round\" style=\"stroke:green;stroke-width:4\"/><line x1=\"525.0\" y1=\"172.05771365940046\" x2=\"541.0\" y2=\"144.34490073829843\" stroke-linecap=\"round\" style=\"stroke:green;stroke-width:4\"/><line x1=\"541.0\" y1=\"144.34490073829843\" x2=\"553.5\" y2=\"122.69426564368747\" stroke-linecap=\"round\" style=\"stroke:green;stroke-width:4\"/><line x1=\"553.5\" y1=\"122.69426564368747\" x2=\"563.5\" y2=\"105.3737575679987\" stroke-linecap=\"round\" style=\"stroke:green;stroke-width:4\"/><line x1=\"563.5\" y1=\"105.3737575679987\" x2=\"553.5\" y2=\"122.69426564368746\" stroke-linecap=\"round\" style=\"stroke:green;stroke-width:4\"/><line x1=\"553.5\" y1=\"122.69426564368746\" x2=\"541.0\" y2=\"144.34490073829843\" stroke-linecap=\"round\" style=\"stroke:green;stroke-width:4\"/><line x1=\"541.0\" y1=\"144.34490073829843\" x2=\"525.0\" y2=\"172.05771365940046\" stroke-linecap=\"round\" style=\"stroke:green;stroke-width:4\"/><line x1=\"525.0\" y1=\"172.05771365940046\" x2=\"535.0\" y2=\"189.37822173508923\" stroke-linecap=\"round\" style=\"stroke:green;stroke-width:4\"/><line x1=\"535.0\" y1=\"189.37822173508923\" x2=\"525.0\" y2=\"172.05771365940046\" stroke-linecap=\"round\" style=\"stroke:green;stroke-width:4\"/><line x1=\"525.0\" y1=\"172.05771365940046\" x2=\"505.0\" y2=\"172.05771365940046\" stroke-linecap=\"round\" style=\"stroke:green;stroke-width:4\"/><line x1=\"505.0\" y1=\"172.05771365940046\" x2=\"525.0\" y2=\"172.05771365940046\" stroke-linecap=\"round\" style=\"stroke:green;stroke-width:4\"/><line x1=\"525.0\" y1=\"172.05771365940046\" x2=\"505.0\" y2=\"206.698729810778\" stroke-linecap=\"round\" style=\"stroke:green;stroke-width:4\"/><line x1=\"505.0\" y1=\"206.698729810778\" x2=\"517.5\" y2=\"228.34936490538897\" stroke-linecap=\"round\" style=\"stroke:green;stroke-width:4\"/><line x1=\"517.5\" y1=\"228.34936490538897\" x2=\"527.5\" y2=\"245.66987298107773\" stroke-linecap=\"round\" style=\"stroke:green;stroke-width:4\"/><line x1=\"527.5\" y1=\"245.66987298107773\" x2=\"517.5\" y2=\"228.34936490538897\" stroke-linecap=\"round\" style=\"stroke:green;stroke-width:4\"/><line x1=\"517.5\" y1=\"228.34936490538897\" x2=\"505.0\" y2=\"206.698729810778\" stroke-linecap=\"round\" style=\"stroke:green;stroke-width:4\"/><line x1=\"505.0\" y1=\"206.698729810778\" x2=\"480.0\" y2=\"206.698729810778\" stroke-linecap=\"round\" style=\"stroke:green;stroke-width:4\"/><line x1=\"480.0\" y1=\"206.698729810778\" x2=\"460.0\" y2=\"206.698729810778\" stroke-linecap=\"round\" style=\"stroke:green;stroke-width:4\"/><line x1=\"460.0\" y1=\"206.698729810778\" x2=\"480.0\" y2=\"206.698729810778\" stroke-linecap=\"round\" style=\"stroke:green;stroke-width:4\"/><line x1=\"480.0\" y1=\"206.698729810778\" x2=\"505.0\" y2=\"206.698729810778\" stroke-linecap=\"round\" style=\"stroke:green;stroke-width:4\"/><line x1=\"505.0\" y1=\"206.698729810778\" x2=\"480.0\" y2=\"249.99999999999991\" stroke-linecap=\"round\" style=\"stroke:green;stroke-width:4\"/><line x1=\"480.0\" y1=\"249.99999999999991\" x2=\"505.0\" y2=\"293.30127018922184\" stroke-linecap=\"round\" style=\"stroke:green;stroke-width:4\"/><line x1=\"505.0\" y1=\"293.30127018922184\" x2=\"525.0\" y2=\"327.94228634059937\" stroke-linecap=\"round\" style=\"stroke:green;stroke-width:4\"/><line x1=\"525.0\" y1=\"327.94228634059937\" x2=\"541.0\" y2=\"355.6550992617014\" stroke-linecap=\"round\" style=\"stroke:green;stroke-width:4\"/><line x1=\"541.0\" y1=\"355.6550992617014\" x2=\"553.5\" y2=\"377.30573435631237\" stroke-linecap=\"round\" style=\"stroke:green;stroke-width:4\"/><line x1=\"553.5\" y1=\"377.30573435631237\" x2=\"563.5\" y2=\"394.62624243200116\" stroke-linecap=\"round\" style=\"stroke:green;stroke-width:4\"/><line x1=\"563.5\" y1=\"394.62624243200116\" x2=\"553.5\" y2=\"377.30573435631237\" stroke-linecap=\"round\" style=\"stroke:green;stroke-width:4\"/><line x1=\"553.5\" y1=\"377.30573435631237\" x2=\"541.0\" y2=\"355.6550992617014\" stroke-linecap=\"round\" style=\"stroke:green;stroke-width:4\"/><line x1=\"541.0\" y1=\"355.6550992617014\" x2=\"525.0\" y2=\"327.94228634059937\" stroke-linecap=\"round\" style=\"stroke:green;stroke-width:4\"/><line x1=\"525.0\" y1=\"327.94228634059937\" x2=\"505.0\" y2=\"327.94228634059937\" stroke-linecap=\"round\" style=\"stroke:green;stroke-width:4\"/><line x1=\"505.0\" y1=\"327.94228634059937\" x2=\"525.0\" y2=\"327.94228634059937\" stroke-linecap=\"round\" style=\"stroke:green;stroke-width:4\"/><line x1=\"525.0\" y1=\"327.94228634059937\" x2=\"535.0\" y2=\"310.6217782649106\" stroke-linecap=\"round\" style=\"stroke:green;stroke-width:4\"/><line x1=\"535.0\" y1=\"310.6217782649106\" x2=\"525.0\" y2=\"327.94228634059937\" stroke-linecap=\"round\" style=\"stroke:green;stroke-width:4\"/><line x1=\"525.0\" y1=\"327.94228634059937\" x2=\"505.0\" y2=\"293.30127018922184\" stroke-linecap=\"round\" style=\"stroke:green;stroke-width:4\"/><line x1=\"505.0\" y1=\"293.30127018922184\" x2=\"480.0\" y2=\"293.30127018922184\" stroke-linecap=\"round\" style=\"stroke:green;stroke-width:4\"/><line x1=\"480.0\" y1=\"293.30127018922184\" x2=\"460.0\" y2=\"293.30127018922184\" stroke-linecap=\"round\" style=\"stroke:green;stroke-width:4\"/><line x1=\"460.0\" y1=\"293.30127018922184\" x2=\"480.0\" y2=\"293.30127018922184\" stroke-linecap=\"round\" style=\"stroke:green;stroke-width:4\"/><line x1=\"480.0\" y1=\"293.30127018922184\" x2=\"505.0\" y2=\"293.30127018922184\" stroke-linecap=\"round\" style=\"stroke:green;stroke-width:4\"/><line x1=\"505.0\" y1=\"293.30127018922184\" x2=\"517.5\" y2=\"271.6506350946109\" stroke-linecap=\"round\" style=\"stroke:green;stroke-width:4\"/><line x1=\"517.5\" y1=\"271.6506350946109\" x2=\"527.5\" y2=\"254.33012701892213\" stroke-linecap=\"round\" style=\"stroke:green;stroke-width:4\"/><line x1=\"527.5\" y1=\"254.33012701892213\" x2=\"517.5\" y2=\"271.6506350946109\" stroke-linecap=\"round\" style=\"stroke:green;stroke-width:4\"/><line x1=\"517.5\" y1=\"271.6506350946109\" x2=\"505.0\" y2=\"293.30127018922184\" stroke-linecap=\"round\" style=\"stroke:green;stroke-width:4\"/><line x1=\"505.0\" y1=\"293.30127018922184\" x2=\"480.0\" y2=\"249.99999999999991\" stroke-linecap=\"round\" style=\"stroke:green;stroke-width:4\"/><line x1=\"480.0\" y1=\"249.99999999999991\" x2=\"580.0\" y2=\"249.99999999999991\" stroke-linecap=\"round\" style=\"stroke:green;stroke-width:4\"/><line x1=\"580.0\" y1=\"249.99999999999991\" x2=\"630.0\" y2=\"249.99999999999991\" stroke-linecap=\"round\" style=\"stroke:green;stroke-width:4\"/>\n",
              "        \n",
              "      <g visibility=visible transform=\"rotate(90,630.0,249.99999999999991) translate(630.0, 249.99999999999991)\">\n",
              "        <circle stroke=\"green\" stroke-width=\"3\" fill=\"transparent\" r=\"12\" cx=\"0\" cy=\"0\"/>\n",
              "        <polygon points=\"0,19 3,16 -3,16\" style=\"fill:green;stroke:green;stroke-width:2\"/>\n",
              "      </g>\n",
              "    \n",
              "      </svg>\n",
              "    "
            ],
            "text/plain": [
              "<IPython.core.display.HTML object>"
            ]
          },
          "metadata": {
            "tags": []
          }
        }
      ]
    },
    {
      "cell_type": "code",
      "metadata": {
        "id": "LRJ77f7FNB7R"
      },
      "source": [
        ""
      ],
      "execution_count": null,
      "outputs": []
    }
  ]
}