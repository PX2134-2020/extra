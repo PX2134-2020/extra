{
  "nbformat": 4,
  "nbformat_minor": 0,
  "metadata": {
    "colab": {
      "name": "Synoptic_Calculations.ipynb",
      "provenance": [],
      "authorship_tag": "ABX9TyM4c0RZWANZSSRpSI7QuVQz",
      "include_colab_link": true
    },
    "kernelspec": {
      "name": "python3",
      "display_name": "Python 3"
    },
    "language_info": {
      "name": "python"
    }
  },
  "cells": [
    {
      "cell_type": "markdown",
      "metadata": {
        "id": "view-in-github",
        "colab_type": "text"
      },
      "source": [
        "<a href=\"https://colab.research.google.com/github/Martin-William/extra/blob/master/Synoptic_Calculations.ipynb\" target=\"_parent\"><img src=\"https://colab.research.google.com/assets/colab-badge.svg\" alt=\"Open In Colab\"/></a>"
      ]
    },
    {
      "cell_type": "markdown",
      "source": [
        "Synoptic Calculation sheet"
      ],
      "metadata": {
        "id": "W3BaHTi8R5eC"
      }
    },
    {
      "cell_type": "code",
      "execution_count": null,
      "metadata": {
        "id": "U0ENzKpJR4qj"
      },
      "outputs": [],
      "source": [
        ""
      ]
    },
    {
      "cell_type": "markdown",
      "source": [
        "Week 1:\n",
        "\n",
        "$\n",
        "T = (\\frac{2}{L} )^{1/2}\n",
        "$"
      ],
      "metadata": {
        "id": "hGOMThmxSNU5"
      }
    },
    {
      "cell_type": "code",
      "source": [
        "f = 100*2**0.5\n",
        "print (f)"
      ],
      "metadata": {
        "colab": {
          "base_uri": "https://localhost:8080/"
        },
        "id": "daGL9-psSNGp",
        "outputId": "969eb47f-d96e-45c0-8f5f-6f48e024d109"
      },
      "execution_count": null,
      "outputs": [
        {
          "output_type": "stream",
          "name": "stdout",
          "text": [
            "141.4213562373095\n"
          ]
        }
      ]
    },
    {
      "cell_type": "markdown",
      "source": [
        "Week 2:"
      ],
      "metadata": {
        "id": "yMOCcCPJTPKR"
      }
    },
    {
      "cell_type": "markdown",
      "source": [
        "A cantilever is constructed of steel, with Length L, width w and thickness t.\n",
        "\n",
        "1. What is the standard formula for the spring constant of a cantilever ?\n",
        "\n",
        "Equation for the Spring constant, k, given dimensions and Young’s modulus of a rectangle:\n",
        "\n",
        "$k = (E ∗ W ∗ T^3) / (4 ∗ L^3)$\n",
        "\n",
        "E = Youngs modulus (Kg /m*s^2 or Pa), W = Width (m), T = Thickness (m), L = Length (m)\n",
        "\n",
        "2. What is the frequency with which a mass, $m$, oscillates on a spring with spring constant, $k$ ?\n",
        "\n",
        "Equation for the Frequency, $f$.\n",
        "\n",
        "$f = ω/2π$, $ω = (k/m)^{1/2}$\n",
        "\n",
        "so: $f = (1/2π)∗(k/m)^{1/2}$\n",
        "\n",
        "$k$ = spring constant(N/m, Kg/s^2), $m$ = mass (Kg)\n",
        "\n",
        "3. By combining the expressions, obtain the expression for the resonant frequency of the cantilever.\n",
        "\n",
        "Equation for the resonant frequency, $f_c$:\n",
        "\n",
        "$f = (1/2π)∗(k/m)^{1/2}, k = (E ∗ W ∗ T^3) / (4 ∗ L^3)$\n",
        "\n",
        "so:$ f_c = (1/2π)∗((E ∗ W ∗ T^3) / (4 ∗ L^3 ∗ m))^{1/2}$\n",
        "\n",
        "4. Show, by dimensional analysis, that this is correct.\n",
        "\n",
        "$fc = (1/2π)∗(\\frac{(E ∗ W ∗ T^3)}{(4 ∗ L^3 ∗ m)})^{1/2}$\n",
        "\n",
        "$1 / s = (\\frac{(Kg /m*s^2) * m * m^3)}{(m^3 * Kg)})^{1/2} = ((Kg / Kg) (m / m*s^2)( m^3 / m^3))^{1/2} = (m / m*s^2)^{1/2}= (1 / s^2)^{1/2} = 1 / s$"
      ],
      "metadata": {
        "id": "6R0NwP2f1Xn2"
      }
    },
    {
      "cell_type": "code",
      "source": [
        ""
      ],
      "metadata": {
        "id": "qpUi-dZl1W4w"
      },
      "execution_count": null,
      "outputs": []
    }
  ]
}