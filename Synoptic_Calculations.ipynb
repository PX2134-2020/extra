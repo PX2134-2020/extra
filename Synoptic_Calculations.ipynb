{
  "nbformat": 4,
  "nbformat_minor": 0,
  "metadata": {
    "colab": {
      "name": "Synoptic_Calculations.ipynb",
      "provenance": [],
      "authorship_tag": "ABX9TyOnsYY/ufOtrhINS89Z5aRQ",
      "include_colab_link": true
    },
    "kernelspec": {
      "name": "python3",
      "display_name": "Python 3"
    },
    "language_info": {
      "name": "python"
    }
  },
  "cells": [
    {
      "cell_type": "markdown",
      "metadata": {
        "id": "view-in-github",
        "colab_type": "text"
      },
      "source": [
        "<a href=\"https://colab.research.google.com/github/Martin-William/extra/blob/master/Synoptic_Calculations.ipynb\" target=\"_parent\"><img src=\"https://colab.research.google.com/assets/colab-badge.svg\" alt=\"Open In Colab\"/></a>"
      ]
    },
    {
      "cell_type": "markdown",
      "source": [
        "Synoptic Calculation sheet"
      ],
      "metadata": {
        "id": "W3BaHTi8R5eC"
      }
    },
    {
      "cell_type": "code",
      "execution_count": null,
      "metadata": {
        "id": "U0ENzKpJR4qj"
      },
      "outputs": [],
      "source": [
        ""
      ]
    },
    {
      "cell_type": "markdown",
      "source": [
        "Week 1:\n",
        "\n",
        "$\n",
        "T = (\\frac{2}{L} )^{1/2}\n",
        "$"
      ],
      "metadata": {
        "id": "hGOMThmxSNU5"
      }
    },
    {
      "cell_type": "code",
      "source": [
        "f = 100*2**0.5\n",
        "print (f)"
      ],
      "metadata": {
        "colab": {
          "base_uri": "https://localhost:8080/"
        },
        "id": "daGL9-psSNGp",
        "outputId": "969eb47f-d96e-45c0-8f5f-6f48e024d109"
      },
      "execution_count": null,
      "outputs": [
        {
          "output_type": "stream",
          "name": "stdout",
          "text": [
            "141.4213562373095\n"
          ]
        }
      ]
    },
    {
      "cell_type": "markdown",
      "source": [
        "Week 2:"
      ],
      "metadata": {
        "id": "yMOCcCPJTPKR"
      }
    }
  ]
}